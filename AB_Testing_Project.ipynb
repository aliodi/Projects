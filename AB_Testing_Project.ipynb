{
 "cells": [
  {
   "cell_type": "markdown",
   "id": "9aeea2b3",
   "metadata": {},
   "source": [
    "---"
   ]
  },
  {
   "cell_type": "markdown",
   "id": "7e248acb",
   "metadata": {},
   "source": [
    "# goals of the research"
   ]
  },
  {
   "cell_type": "markdown",
   "id": "7c506ba9",
   "metadata": {},
   "source": [
    "<div class=\"alert alert-info\"> <b>\n",
    "\n",
    "    \n",
    "The goal of this research is to analyze the A/B test results for an online store's new payment funnel. The purpose of the test was to test the introduction of an improved recommendation system and evaluate if there is at least a 10% increase in conversion for product page views, product card views, and purchases within 14 days of signing up. the test was launtched on December 7, 2020, and ended on January 1, 2021. with 15% of new users from the EU region and an expected number of 6,000 test participants. The research aims to explore the data to check if it was carried out correctly, including exploring conversion at different funnel stages, checking if the number of events per user is distributed equally in the samples, and evaluating the possible details in the data that need to be taken into account before starting the A/B test. Finally, the research aims to evaluate the A/B test results, including checking the statistical difference between the proportions using the z-criterion and drawing conclusions from the EDA stage and the evaluation of the A/B test results."
   ]
  },
  {
   "cell_type": "code",
   "execution_count": null,
   "id": "42352dbf",
   "metadata": {},
   "outputs": [],
   "source": [
    "# importing libraries\n",
    "import pandas as pd\n",
    "from scipy import stats\n",
    "import numpy as np\n",
    "import matplotlib.pyplot as plt\n",
    "import plotly.express as px\n",
    "from IPython.core.interactiveshell import InteractiveShell\n",
    "InteractiveShell.ast_node_interactivity = 'all'"
   ]
  },
  {
   "cell_type": "markdown",
   "id": "c2642855",
   "metadata": {},
   "source": [
    "# 1. Opening the data file and studying the general information"
   ]
  },
  {
   "cell_type": "code",
   "execution_count": null,
   "id": "0c59ade4",
   "metadata": {},
   "outputs": [],
   "source": [
    "#reading the files\n",
    "marketing_events = pd.read_csv('/datasets/ab_project_marketing_events_us.csv')\n",
    "ab_events = pd.read_csv('/datasets/final_ab_events_upd_us.csv')\n",
    "ab_users = pd.read_csv('/datasets/final_ab_new_users_upd_us.csv')\n",
    "participants = pd.read_csv('/datasets/final_ab_participants_upd_us.csv')"
   ]
  },
  {
   "cell_type": "markdown",
   "id": "15a0f534",
   "metadata": {},
   "source": [
    "# Explore the data"
   ]
  },
  {
   "cell_type": "markdown",
   "id": "293c4784",
   "metadata": {},
   "source": [
    "**data types, missing values, duplictes**"
   ]
  },
  {
   "cell_type": "markdown",
   "id": "057f99a2",
   "metadata": {},
   "source": [
    "**Marketing events**"
   ]
  },
  {
   "cell_type": "code",
   "execution_count": null,
   "id": "fd726d08",
   "metadata": {},
   "outputs": [],
   "source": [
    "#marketing events\n",
    "marketing_events.sample(3)"
   ]
  },
  {
   "cell_type": "code",
   "execution_count": null,
   "id": "414f9196",
   "metadata": {},
   "outputs": [],
   "source": [
    "#converting columns types\n",
    "marketing_events['start_dt'] = pd.to_datetime(marketing_events['start_dt'])\n",
    "marketing_events['finish_dt'] = pd.to_datetime(marketing_events['finish_dt'])\n",
    "marketing_events.info()"
   ]
  },
  {
   "cell_type": "code",
   "execution_count": null,
   "id": "412a0d9a",
   "metadata": {},
   "outputs": [],
   "source": [
    "#duplicates in marketing events\n",
    "duplicates = marketing_events.duplicated()\n",
    "num_duplicates = duplicates.sum()\n",
    "dup_percentages = (duplicates.mean() * 100).round(2)\n",
    "\n",
    "# print results\n",
    "print(f\"Number of duplicates: {num_duplicates}\")\n",
    "print(f\"Duplicate percentage by column:\\n{dup_percentages}\")"
   ]
  },
  {
   "cell_type": "markdown",
   "id": "bbc72ebe",
   "metadata": {},
   "source": [
    "**A/B events**"
   ]
  },
  {
   "cell_type": "code",
   "execution_count": null,
   "id": "ed55f6d2",
   "metadata": {},
   "outputs": [],
   "source": [
    "#ab events\n",
    "ab_events.sample(3)\n",
    "print()\n",
    "ab_events['event_dt'] = pd.to_datetime(ab_events['event_dt'])\n",
    "ab_events.info()"
   ]
  },
  {
   "cell_type": "code",
   "execution_count": null,
   "id": "63a585fe",
   "metadata": {},
   "outputs": [],
   "source": [
    "ab_events['event_name'].value_counts()"
   ]
  },
  {
   "cell_type": "code",
   "execution_count": null,
   "id": "db214361",
   "metadata": {},
   "outputs": [],
   "source": [
    "#missing values\n",
    "missing_values = ab_events.isnull().sum()\n",
    "total_cells = np.product(ab_events.shape)\n",
    "total_missing = missing_values.sum()\n",
    "\n",
    "percent_missing = (total_missing/total_cells) * 100\n",
    "print(f\"Total Percentage of Missing Values: {percent_missing:.2f}%\\n\")\n",
    "\n",
    "percent_missing_by_column = (ab_events.isnull().sum() / ab_events.isnull().count()) * 100\n",
    "print(f\"Percentage of Missing Values by Column:\\n{percent_missing_by_column}\")"
   ]
  },
  {
   "cell_type": "code",
   "execution_count": null,
   "id": "6f9fb7ec",
   "metadata": {},
   "outputs": [],
   "source": [
    "#fill in missing values\n",
    "ab_events['details'] = ab_events['details'].fillna('No additional information')"
   ]
  },
  {
   "cell_type": "markdown",
   "id": "ba07b366",
   "metadata": {},
   "source": [
    "<div class=\"alert alert-info\"> <b>\n",
    "\n",
    "    here I filled in the missing values in 'details' columns with no additional information. because I saw the this column contains an additional data about the order/purchase."
   ]
  },
  {
   "cell_type": "code",
   "execution_count": null,
   "id": "974b47b2",
   "metadata": {},
   "outputs": [],
   "source": [
    "#duplicates in A/B events\n",
    "duplicates1 = ab_events.duplicated()\n",
    "num_duplicates1 = duplicates1.sum()\n",
    "dup_percentages1 = (duplicates1.mean() * 100).round(2)\n",
    "\n",
    "# print results\n",
    "print(f\"Number of duplicates: {num_duplicates1}\")\n",
    "print(f\"Duplicate percentage by column:\\n{dup_percentages1}\")"
   ]
  },
  {
   "cell_type": "markdown",
   "id": "2d3beae1",
   "metadata": {},
   "source": [
    "**A/B users**"
   ]
  },
  {
   "cell_type": "code",
   "execution_count": null,
   "id": "eba275b1",
   "metadata": {},
   "outputs": [],
   "source": [
    "#ab users\n",
    "ab_users.sample(3)\n",
    "print()\n",
    "ab_users['first_date'] = pd.to_datetime(ab_users['first_date'])\n",
    "ab_users.info()"
   ]
  },
  {
   "cell_type": "code",
   "execution_count": null,
   "id": "e4df7e0e",
   "metadata": {},
   "outputs": [],
   "source": [
    "#duplicates in A/B users\n",
    "duplicates2 = ab_users.duplicated()\n",
    "num_duplicates2 = duplicates2.sum()\n",
    "dup_percentages2 = (duplicates2.mean() * 100).round(2)\n",
    "\n",
    "# print results\n",
    "print(f\"Number of duplicates: {num_duplicates2}\")\n",
    "print(f\"Duplicate percentage by column:\\n{dup_percentages2}\")"
   ]
  },
  {
   "cell_type": "markdown",
   "id": "ffe18439",
   "metadata": {},
   "source": [
    "**Participants**"
   ]
  },
  {
   "cell_type": "code",
   "execution_count": null,
   "id": "268906f0",
   "metadata": {},
   "outputs": [],
   "source": [
    "#participants\n",
    "participants.sample(3)\n",
    "print()\n",
    "participants.info()"
   ]
  },
  {
   "cell_type": "code",
   "execution_count": null,
   "id": "022927fa",
   "metadata": {},
   "outputs": [],
   "source": [
    "#duplicates in participants\n",
    "duplicates3 = ab_users.duplicated()\n",
    "num_duplicates3 = duplicates3.sum()\n",
    "dup_percentages3 = (duplicates3.mean() * 100).round(2)\n",
    "\n",
    "# print results\n",
    "print(f\"Number of duplicates: {num_duplicates3}\")\n",
    "print(f\"Duplicate percentage by column:\\n{dup_percentages3}\")"
   ]
  },
  {
   "cell_type": "markdown",
   "id": "330b5c84",
   "metadata": {},
   "source": [
    "**Groups**"
   ]
  },
  {
   "cell_type": "code",
   "execution_count": null,
   "id": "3f2dca60",
   "metadata": {},
   "outputs": [],
   "source": [
    "participants['group'].value_counts()"
   ]
  },
  {
   "cell_type": "code",
   "execution_count": null,
   "id": "22d3476f",
   "metadata": {},
   "outputs": [],
   "source": [
    "# users who appear in both groups\n",
    "users_a = set(participants[participants['group'] == 'A']['user_id'])\n",
    "users_b = set(participants[participants['group'] == 'B']['user_id'])\n",
    "users_intersection = users_a.intersection(users_b)"
   ]
  },
  {
   "cell_type": "code",
   "execution_count": null,
   "id": "15999fc8",
   "metadata": {},
   "outputs": [],
   "source": [
    "# percentage of users who appear in both groups\n",
    "percent_intersection = len(users_intersection) / len(participants) * 100\n",
    "print(f\"{percent_intersection:.2f}% of users appeared in both groups A and B.\")"
   ]
  },
  {
   "cell_type": "code",
   "execution_count": null,
   "id": "b284aca1",
   "metadata": {},
   "outputs": [],
   "source": [
    "# the user ids who appear in both groups\n",
    "if users_intersection:\n",
    "    print(\"The following users appeared in both groups:\")\n",
    "    for user in users_intersection:\n",
    "        print(user)\n",
    "else:\n",
    "    print(\"No users appeared in both groups.\")"
   ]
  },
  {
   "cell_type": "code",
   "execution_count": null,
   "id": "baa0a2c2",
   "metadata": {},
   "outputs": [],
   "source": [
    "my_list = list(users_intersection)\n",
    "print(\"Length of the list:\", len(my_list))"
   ]
  },
  {
   "cell_type": "code",
   "execution_count": null,
   "id": "580240fe",
   "metadata": {},
   "outputs": [],
   "source": [
    "users_a = set(participants[participants['group'] == 'A']['user_id'])\n",
    "users_b = set(participants[participants['group'] == 'B']['user_id'])\n",
    "users_intersection = users_a.intersection(users_b)\n",
    "participants = participants[~participants['user_id'].isin(users_intersection)]"
   ]
  },
  {
   "cell_type": "code",
   "execution_count": null,
   "id": "771df0c5",
   "metadata": {},
   "outputs": [],
   "source": [
    "participants.info()"
   ]
  },
  {
   "cell_type": "code",
   "execution_count": null,
   "id": "93ffdcb7",
   "metadata": {},
   "outputs": [],
   "source": [
    "#checked a random user - it is existed in both groups\n",
    "participants.query('user_id == \"23F10CDFF7372B06\"')"
   ]
  },
  {
   "cell_type": "code",
   "execution_count": null,
   "id": "8c711577",
   "metadata": {},
   "outputs": [],
   "source": [
    "#unique tests running\n",
    "unique_tests = participants['ab_test'].nunique()\n",
    "print(\"Number of unique tests running: \", unique_tests)\n",
    "participants['ab_test'].value_counts()"
   ]
  },
  {
   "cell_type": "markdown",
   "id": "0607e0d2",
   "metadata": {},
   "source": [
    "<div class=\"alert alert-info\"> <b>\n",
    "\n",
    "    I had prepared the data in four datasets untill now, filled in the missing values in 'details' columns where there is more information about the purchande or the event, checked how many tests launched there was 2: interface_eu_test and recommender_system_test. it looks like we have users that appears in both groups in the tests, I think those users should be removed so the test will give the correct results as much as possible. changed columms types where needed to datetime if will be needed to calculations moving forward. will check again about users appears in both groups and delete them."
   ]
  },
  {
   "cell_type": "markdown",
   "id": "989c25d3",
   "metadata": {},
   "source": [
    "# EDA "
   ]
  },
  {
   "cell_type": "markdown",
   "id": "df9d5c0d",
   "metadata": {},
   "source": [
    "**Studying conversion at different funnel stages**"
   ]
  },
  {
   "cell_type": "code",
   "execution_count": null,
   "id": "34d9531d",
   "metadata": {},
   "outputs": [],
   "source": [
    "# seperating users by tests\n",
    "recommender_system_participants = participants[participants['ab_test'] == 'recommender_system_test']\n",
    "interface_eu_participants = participants[participants['ab_test'] == 'interface_eu_test']\n",
    "recommender_system_users = pd.merge(recommender_system_participants, ab_users, on='user_id')\n",
    "interface_eu_users = pd.merge(interface_eu_participants, ab_users, on='user_id')\n",
    "\n",
    "# all info about users for funnels\n",
    "recommender_system_events = pd.merge(recommender_system_users, ab_events, on='user_id')\n",
    "interface_eu_events = pd.merge(interface_eu_users, ab_events, on='user_id')\n",
    "\n",
    "# participants in each test\n",
    "print(\"participants in recommender_system_test test:\", len(recommender_system_participants))\n",
    "print(\"participants in interface_eu_test test:\", len(interface_eu_participants))"
   ]
  },
  {
   "cell_type": "markdown",
   "id": "8c9e3056",
   "metadata": {},
   "source": [
    "**interface eu test participants funnel**"
   ]
  },
  {
   "cell_type": "code",
   "execution_count": null,
   "id": "57d4dac6",
   "metadata": {},
   "outputs": [],
   "source": [
    "# funnel stages\n",
    "interface_funnel = ['product_page', 'product_cart', 'purchase']\n",
    "# unique users at each stage\n",
    "for stage in interface_funnel:\n",
    "    users_stage = interface_eu_events[interface_eu_events['event_name'] == stage]['user_id'].nunique()\n",
    "    print(f\"number of unique users at {stage}: {users_stage}\")"
   ]
  },
  {
   "cell_type": "code",
   "execution_count": null,
   "id": "ffb69af9",
   "metadata": {},
   "outputs": [],
   "source": [
    "# converstion\n",
    "users_at_product_page = interface_eu_events[interface_eu_events['event_name'] == 'product_page']['user_id'].nunique()\n",
    "users_at_purchase = interface_eu_events[interface_eu_events['event_name'] == 'purchase']['user_id'].nunique()\n",
    "conversion_rates = users_at_purchase / users_at_product_page * 100\n",
    "print(f\"percent of users who purchased out of the total users in the product page stage: {conversion_rates:.2f}%\")"
   ]
  },
  {
   "cell_type": "code",
   "execution_count": null,
   "id": "30a0ef58",
   "metadata": {},
   "outputs": [],
   "source": [
    "interface_eu_events_grouped = interface_eu_events.groupby(['group', 'event_name'])['user_id'].nunique().reset_index(name='count')\n",
    "# funnel stages and groups A and B\n",
    "interface_eu_events_filtered = interface_eu_events_grouped[(interface_eu_events_grouped['event_name'].isin(interface_funnel)) &\n",
    "                                                           (interface_eu_events_grouped['group'].isin(['A', 'B']))]\n",
    "interface_eu_events_pivot = pd.pivot_table(interface_eu_events_filtered, values='count', index='event_name', columns='group')\n",
    "interface_eu_events_pivot = interface_eu_events_pivot.reset_index()"
   ]
  },
  {
   "cell_type": "code",
   "execution_count": null,
   "id": "3a42a91c",
   "metadata": {},
   "outputs": [],
   "source": [
    "# plot\n",
    "fig = px.bar(interface_eu_events_pivot, x='event_name', y=['A', 'B'], barmode='group', title='Interface Sales Funnel by Test Group')\n",
    "fig.update_layout(xaxis_title='Funnel Stages', yaxis_title='Number of Users')\n",
    "fig.show();"
   ]
  },
  {
   "cell_type": "markdown",
   "id": "82a5f7e1",
   "metadata": {},
   "source": [
    "**recommender system test participants funnel**"
   ]
  },
  {
   "cell_type": "code",
   "execution_count": null,
   "id": "09f3d84b",
   "metadata": {},
   "outputs": [],
   "source": [
    "# funnel stages\n",
    "recommender_system_funnel = ['product_page', 'product_cart', 'purchase']\n",
    "# unique users at each stage\n",
    "for stage1 in recommender_system_funnel:\n",
    "    users_stage1 = recommender_system_events[recommender_system_events['event_name'] == stage1]['user_id'].nunique()\n",
    "    print(f\"number of unique users at {stage1}: {users_stage1}\")"
   ]
  },
  {
   "cell_type": "code",
   "execution_count": null,
   "id": "cd2ff44d",
   "metadata": {},
   "outputs": [],
   "source": [
    "# converstion\n",
    "users_at_product_page1 = recommender_system_events[recommender_system_events['event_name'] == 'product_page']['user_id'].nunique()\n",
    "users_at_purchase1 = recommender_system_events[recommender_system_events['event_name'] == 'purchase']['user_id'].nunique()\n",
    "conversion_rate1 = users_at_purchase1 / users_at_product_page1 * 100\n",
    "print(f\"percent of users who purchased out of the total users in the product page stage: {conversion_rate1:.2f}%\")"
   ]
  },
  {
   "cell_type": "code",
   "execution_count": null,
   "id": "370368b9",
   "metadata": {},
   "outputs": [],
   "source": [
    "recommender_system_events_grouped = recommender_system_events.groupby(['group', 'event_name'])['user_id'].nunique().reset_index(name='count')\n",
    "# funnel stages and groups A and B\n",
    "recommender_system_events_filtered = recommender_system_events_grouped[(recommender_system_events_grouped['event_name'].isin(recommender_system_funnel)) &\n",
    "                                                           (recommender_system_events_grouped['group'].isin(['A', 'B']))]\n",
    "recommender_system_events_pivot = pd.pivot_table(recommender_system_events_filtered, values='count', index='event_name', columns='group')\n",
    "recommender_system_events_pivot = recommender_system_events_pivot.reset_index()"
   ]
  },
  {
   "cell_type": "code",
   "execution_count": null,
   "id": "59ab5c2b",
   "metadata": {},
   "outputs": [],
   "source": [
    "# plot\n",
    "fig = px.bar(recommender_system_events_pivot, x='event_name', y=['A', 'B'], barmode='group', title='Recommender System Sales Funnel by Test Group')\n",
    "fig.update_layout(xaxis_title='Funnel Stages', yaxis_title='Number of Users')\n",
    "fig.show();"
   ]
  },
  {
   "cell_type": "markdown",
   "id": "130ed994",
   "metadata": {},
   "source": [
    "<div class=\"alert alert-info\"> <b>\n",
    "\n",
    "    we can see a chart showing three funnel stages in the product, we can see clearly that almost 50% of those users on the product_page stage are reaching out to the purchace stage. maybe if some customizations to the campaigns and               trying to exposure the product page to more users to visit it, this will increase the users reaching out the             purchase stage."
   ]
  },
  {
   "cell_type": "code",
   "execution_count": null,
   "id": "da3dcd2f",
   "metadata": {},
   "outputs": [],
   "source": [
    "# adding date column\n",
    "recommender_system_events['event_date'] = recommender_system_events['event_dt'].dt.date\n",
    "interface_eu_events['event_date'] = interface_eu_events['event_dt'].dt.date"
   ]
  },
  {
   "cell_type": "markdown",
   "id": "c6fe867e",
   "metadata": {},
   "source": [
    "**recommender system test**"
   ]
  },
  {
   "cell_type": "code",
   "execution_count": null,
   "id": "daee6607",
   "metadata": {},
   "outputs": [],
   "source": [
    "recommender_system_events.sample(3)"
   ]
  },
  {
   "cell_type": "code",
   "execution_count": null,
   "id": "03a27b61",
   "metadata": {},
   "outputs": [],
   "source": [
    "# number of events per user\n",
    "recommender_event_counts = recommender_system_events.groupby('user_id').size().reset_index(name='event_count')\n",
    "# mean and standard deviation of event counts\n",
    "mean_count = recommender_event_counts['event_count'].mean()\n",
    "std_count = recommender_event_counts['event_count'].std()\n",
    "# checking if normally distributed\n",
    "is_normal = (recommender_event_counts['event_count'].max() - recommender_event_counts['event_count'].min()) < (3 * std_count)\n",
    "recommender_event_counts.sample(3)"
   ]
  },
  {
   "cell_type": "code",
   "execution_count": null,
   "id": "4ee5d215",
   "metadata": {},
   "outputs": [],
   "source": [
    "# results\n",
    "if is_normal:\n",
    "    print('the number of events is distributed equally per user')\n",
    "else:\n",
    "    print('the number of events is not distributed equally per user')\n",
    "print()\n",
    "print(f\"average number of events per user: {mean_count:.2f}\")\n",
    "print()\n",
    "print(f\"maximum number of events: {recommender_event_counts['event_count'].max()}\")\n",
    "print()\n",
    "print(f\"minimum number of events: {recommender_event_counts['event_count'].min()}\")"
   ]
  },
  {
   "cell_type": "code",
   "execution_count": null,
   "id": "5212b2a6",
   "metadata": {},
   "outputs": [],
   "source": [
    "# plot\n",
    "recommender_system__event_counts = recommender_event_counts.merge(recommender_system_events[['user_id', 'group']], on='user_id')\n",
    "fig = px.histogram(recommender_system__event_counts, x='event_count', color='group', barmode='group',\n",
    "                   nbins=28, color_discrete_sequence=['blue', 'orange'],\n",
    "                   labels={'event_count': 'Number of Events', 'group': 'Test Group'},\n",
    "                   title='Events per User by est Group')\n",
    "\n",
    "fig.update_layout(xaxis_tickangle=-45)"
   ]
  },
  {
   "cell_type": "markdown",
   "id": "66a87ae3",
   "metadata": {},
   "source": [
    "**interface eu test**"
   ]
  },
  {
   "cell_type": "code",
   "execution_count": null,
   "id": "c7bb0252",
   "metadata": {},
   "outputs": [],
   "source": [
    "interface_eu_events.sample(3)"
   ]
  },
  {
   "cell_type": "code",
   "execution_count": null,
   "id": "8680ecb5",
   "metadata": {},
   "outputs": [],
   "source": [
    "# number of events per user\n",
    "interface_event_counts = interface_eu_events.groupby('user_id').size().reset_index(name='event_count')\n",
    "# mean and standard deviation of event counts\n",
    "mean_count = interface_event_counts['event_count'].mean()\n",
    "std_count = interface_event_counts['event_count'].std()\n",
    "# checking if normally distributed\n",
    "is_normal1 = (interface_event_counts['event_count'].max() - interface_event_counts['event_count'].min()) < (3 * std_count)\n",
    "interface_event_counts.sample(3)"
   ]
  },
  {
   "cell_type": "code",
   "execution_count": null,
   "id": "b463f946",
   "metadata": {},
   "outputs": [],
   "source": [
    "# results\n",
    "if is_normal1:\n",
    "    print('the number of events is distributed equally per user')\n",
    "else:\n",
    "    print('the number of events is not distributed equally per user')\n",
    "print()\n",
    "print(f\"average number of events per user: {mean_count:.2f}\")\n",
    "print()\n",
    "print(f\"maximum number of events: {interface_event_counts['event_count'].max()}\")\n",
    "print()\n",
    "print(f\"minimum number of events: {interface_event_counts['event_count'].min()}\")"
   ]
  },
  {
   "cell_type": "code",
   "execution_count": null,
   "id": "5d4c3fe9",
   "metadata": {},
   "outputs": [],
   "source": [
    "# plot\n",
    "interr_event_counts = interface_event_counts.merge(interface_eu_events[['user_id', 'group']], on='user_id')\n",
    "fig = px.histogram(interr_event_counts, x='event_count', color='group', barmode='group',\n",
    "                   nbins=28, color_discrete_sequence=['blue', 'orange'],\n",
    "                   labels={'event_count': 'Number of Events', 'group': 'Test Group'},\n",
    "                   title='Events per User by est Group')\n",
    "\n",
    "fig.update_layout(xaxis_tickangle=-45)"
   ]
  },
  {
   "cell_type": "markdown",
   "id": "9bcd5a0c",
   "metadata": {},
   "source": [
    "<div class=\"alert alert-info\"> <b>showed above a distibution of number of events per user in each test. after correcting the         results it seems like events are not distributed equally per each user. in the recommender_system_test we can see            that the average events per user is around 6 events while we saw there are many users with different number of the       average. the same of the interface_eu_test the average events per user is around 7.3 events but there are many users with different number of events."
   ]
  },
  {
   "cell_type": "markdown",
   "id": "2834c209",
   "metadata": {},
   "source": [
    "<div class=\"alert alert-info\"> <b>\n",
    "\n",
    "    I added below histograms, one for each test showing the liftime in days for an event since the first day the same        user logged in."
   ]
  },
  {
   "cell_type": "markdown",
   "id": "2224eb63",
   "metadata": {},
   "source": [
    "**recommender system test**"
   ]
  },
  {
   "cell_type": "code",
   "execution_count": null,
   "id": "ef1feb9b",
   "metadata": {},
   "outputs": [],
   "source": [
    "# datetime\n",
    "recommender_system_events['event_date'] = pd.to_datetime(recommender_system_events['event_date'])\n",
    "recommender_system_events['lifetime'] = (recommender_system_events['event_date'] - recommender_system_events['first_date']).dt.days\n",
    "recommender_system_events.sample()"
   ]
  },
  {
   "cell_type": "code",
   "execution_count": null,
   "id": "7ac941d0",
   "metadata": {},
   "outputs": [],
   "source": [
    "# histogram\n",
    "fig, ax = plt.subplots(figsize=(10, 7))\n",
    "ax.hist(recommender_system_events['lifetime'], bins=32, color='skyblue', edgecolor='black')\n",
    "ax.set_title('Lifetime of Event since Registration')\n",
    "ax.set_xlabel('Days since Registration')\n",
    "ax.set_ylabel('Number of Events')\n",
    "plt.show();"
   ]
  },
  {
   "cell_type": "markdown",
   "id": "10555d20",
   "metadata": {},
   "source": [
    "**interface eu test**"
   ]
  },
  {
   "cell_type": "code",
   "execution_count": null,
   "id": "7ca2d3a8",
   "metadata": {},
   "outputs": [],
   "source": [
    "# datetime\n",
    "interface_eu_events['event_date'] = pd.to_datetime(interface_eu_events['event_date'])\n",
    "interface_eu_events['lifetime'] = (interface_eu_events['event_date'] - interface_eu_events['first_date']).dt.days\n",
    "interface_eu_events.sample()"
   ]
  },
  {
   "cell_type": "code",
   "execution_count": null,
   "id": "cfd68e1b",
   "metadata": {},
   "outputs": [],
   "source": [
    "# histogram\n",
    "fig, ax = plt.subplots(figsize=(10, 7))\n",
    "ax.hist(interface_eu_events['lifetime'], bins=32, color='skyblue', edgecolor='black')\n",
    "ax.set_title('Lifetime of Event since Registration')\n",
    "ax.set_xlabel('Days since Registration')\n",
    "ax.set_ylabel('Number of Events')\n",
    "plt.show();"
   ]
  },
  {
   "cell_type": "markdown",
   "id": "e6d8a881",
   "metadata": {},
   "source": [
    "**Are there users who enter both samples?**"
   ]
  },
  {
   "cell_type": "code",
   "execution_count": null,
   "id": "0bf86905",
   "metadata": {},
   "outputs": [],
   "source": [
    "participants['ab_test'].unique()\n",
    "participants = participants.drop_duplicates(subset='user_id', keep=False)"
   ]
  },
  {
   "cell_type": "code",
   "execution_count": null,
   "id": "dada2ad8",
   "metadata": {},
   "outputs": [],
   "source": [
    "# Check the number of participants remaining in each test\n",
    "test_counts = participants['ab_test'].value_counts()\n",
    "print(f\"Number of participants in each test:\\n{test_counts}\")"
   ]
  },
  {
   "cell_type": "code",
   "execution_count": null,
   "id": "097f77c2",
   "metadata": {},
   "outputs": [],
   "source": [
    "group_counts = participants.groupby(['ab_test', 'group']).size()\n",
    "print(\"Number of users in each group for each test:\")\n",
    "print(group_counts)"
   ]
  },
  {
   "cell_type": "markdown",
   "id": "aa2300d5",
   "metadata": {},
   "source": [
    "**How is the number of events distributed by days?**"
   ]
  },
  {
   "cell_type": "markdown",
   "id": "f9c620a0",
   "metadata": {},
   "source": [
    "**recommender system test**"
   ]
  },
  {
   "cell_type": "code",
   "execution_count": null,
   "id": "dfbd29c4",
   "metadata": {},
   "outputs": [],
   "source": [
    "recommender_system_events.sample()\n",
    "# Get the day of the week for each event and count the number of events in each day\n",
    "recommender_events_by_day = recommender_system_events.groupby(recommender_system_events['event_dt'].dt.day_name()).size()\n",
    "recommender_events_by_day"
   ]
  },
  {
   "cell_type": "code",
   "execution_count": null,
   "id": "e479614e",
   "metadata": {},
   "outputs": [],
   "source": [
    "# histogram\n",
    "recommender_events_by_day = recommender_events_by_day.reindex([\"Sunday\", \"Monday\", \"Tuesday\", \"Wednesday\", \"Thursday\", \"Friday\", \"Saturday\"])\n",
    "fig = px.bar(x=recommender_events_by_day.index, y=recommender_events_by_day.values, \n",
    "             labels={'x': 'Day of the Week', 'y': 'Count of Events'})\n",
    "fig.update_layout(title='Number of Events by Day of the Week')"
   ]
  },
  {
   "cell_type": "markdown",
   "id": "f84d92e1",
   "metadata": {},
   "source": [
    "**interface eu test**"
   ]
  },
  {
   "cell_type": "code",
   "execution_count": null,
   "id": "f0f5da54",
   "metadata": {},
   "outputs": [],
   "source": [
    "interface_eu_events.sample()\n",
    "# Get the day of the week for each event and count the number of events in each day\n",
    "interface_events_by_day = interface_eu_events.groupby(interface_eu_events['event_dt'].dt.day_name()).size()\n",
    "interface_events_by_day"
   ]
  },
  {
   "cell_type": "code",
   "execution_count": null,
   "id": "86e77e53",
   "metadata": {},
   "outputs": [],
   "source": [
    "# histogram\n",
    "interface_events_by_day = interface_events_by_day.reindex([\"Sunday\", \"Monday\", \"Tuesday\", \"Wednesday\", \"Thursday\", \"Friday\", \"Saturday\"])\n",
    "fig = px.bar(x=interface_events_by_day.index, y=interface_events_by_day.values, \n",
    "             labels={'x': 'Day of the Week', 'y': 'Count of Events'})\n",
    "fig.update_layout(title='Number of Events by Day of the Week')"
   ]
  },
  {
   "cell_type": "markdown",
   "id": "3ff0286c",
   "metadata": {},
   "source": [
    "<div class=\"alert alert-info\"> <b>\n",
    "\n",
    "    the highet count of events is on Monday and Tuesday which is in the middle of the week, the lowest count is on Fridays maybe because it's before the weekend."
   ]
  },
  {
   "cell_type": "markdown",
   "id": "64761afc",
   "metadata": {},
   "source": [
    "**Think of the possible details in the data that you have to take into account before starting the A/B test?**"
   ]
  },
  {
   "cell_type": "markdown",
   "id": "e8555f32",
   "metadata": {},
   "source": [
    "**recommender system test**"
   ]
  },
  {
   "cell_type": "code",
   "execution_count": null,
   "id": "1438ce81",
   "metadata": {},
   "outputs": [],
   "source": [
    "# new user\n",
    "new_users = recommender_system_events[recommender_system_events['lifetime'] == 0]\n",
    "new_users_by_group = new_users.groupby(['ab_test', 'group'])['user_id'].nunique()\n",
    "new_users_by_group"
   ]
  },
  {
   "cell_type": "code",
   "execution_count": null,
   "id": "46545a60",
   "metadata": {},
   "outputs": [],
   "source": [
    "recommender_new_users = recommender_system_events.groupby(['group', 'first_date'])['user_id'].nunique().reset_index()\n",
    "new_users_agg = recommender_new_users.groupby(['first_date', 'group', 'user_id']).size().reset_index(name='count')\n",
    "# pivot\n",
    "new_users_pivot = new_users_agg.pivot(index='first_date', columns='group', values='user_id')\n",
    "# cumsum\n",
    "cumulative_new_users = new_users_pivot.cumsum()\n",
    "cumulative_new_users = cumulative_new_users.reset_index().melt(id_vars='first_date', var_name='group', value_name='cumulative_new_users')"
   ]
  },
  {
   "cell_type": "code",
   "execution_count": null,
   "id": "4b492493",
   "metadata": {},
   "outputs": [],
   "source": [
    "# plot \n",
    "fig = px.line(cumulative_new_users, x='first_date', y='cumulative_new_users', color='group',\n",
    "              title='Recommender Cumulative New Users Over Time')\n",
    "fig.show()"
   ]
  },
  {
   "cell_type": "markdown",
   "id": "9c8f043e",
   "metadata": {},
   "source": [
    "**interface eu test**"
   ]
  },
  {
   "cell_type": "code",
   "execution_count": null,
   "id": "74e9a073",
   "metadata": {},
   "outputs": [],
   "source": [
    "# new user\n",
    "new_users1 = interface_eu_events[interface_eu_events['lifetime'] == 0]\n",
    "new_users_by_group1 = new_users1.groupby(['ab_test', 'group'])['user_id'].nunique()\n",
    "new_users_by_group1"
   ]
  },
  {
   "cell_type": "code",
   "execution_count": null,
   "id": "f0764c27",
   "metadata": {},
   "outputs": [],
   "source": [
    "interface_eu_new_users = interface_eu_events.groupby(['group', 'first_date'])['user_id'].nunique().reset_index()\n",
    "interface_new_users_agg = interface_eu_new_users.groupby(['first_date', 'group', 'user_id']).size().reset_index(name='count')\n",
    "# pivot\n",
    "interface_new_users_pivot = interface_new_users_agg.pivot(index='first_date', columns='group', values='user_id')\n",
    "# cumsum\n",
    "interface_cumulative_new_users = interface_new_users_pivot.cumsum()\n",
    "interface_cumulative_new_users = interface_cumulative_new_users.reset_index().melt(id_vars='first_date', var_name='group', value_name='interface_cumulative_new_users')"
   ]
  },
  {
   "cell_type": "code",
   "execution_count": null,
   "id": "728fb5d6",
   "metadata": {},
   "outputs": [],
   "source": [
    "# plot \n",
    "fig = px.line(interface_cumulative_new_users, x='first_date', y='interface_cumulative_new_users', color='group',\n",
    "              title='Inter Cumulative New Users Over Time')\n",
    "fig.show()"
   ]
  },
  {
   "cell_type": "markdown",
   "id": "d147bafd",
   "metadata": {},
   "source": [
    "<div class=\"alert alert-info\"> <b>\n",
    "    \n",
    "    ensuring that user demographics are evenly distributed across different regions and devices, and checking for any seasonality effects on user behavior, to ensure that the users in the A/B test are randomly selected from the entire         user population to ensure they are representative."
   ]
  },
  {
   "cell_type": "markdown",
   "id": "9623bc1c",
   "metadata": {},
   "source": [
    "<div class=\"alert alert-info\"> <b>\n",
    "\n",
    "    I showed above two plots showing the cumulative new users in both tests since starting it, we can see clearly that         in the recommender test the number of new users was kind of stable untill the 14th of the month, it started to go up with groups A while group B kept with stable movements with the new users count. in the EU test we can see that it                    started from the beggining with up scale, but also we can see clearly that after 14th of the month started to            increase with both groups A and B."
   ]
  },
  {
   "cell_type": "markdown",
   "id": "f3f98e8a",
   "metadata": {},
   "source": [
    "<div class=\"alert alert-info\"> <b>\n",
    "\n",
    "    sure, as the technical descreption of the project: Groups: А (control), B (new payment funnel). we can see clearly         in the graph plotted that after about 7 days of launching the test the number of the cumulative new users fro               group A (control) is getting higher more and more after launching the test, group B supposed to be the users               trying the new update/change and it's cumulative new users while keep going on in the test was lower than                     the control group, stayed stable untill the end of the test."
   ]
  },
  {
   "cell_type": "markdown",
   "id": "3b41a732",
   "metadata": {},
   "source": [
    "**Evaluate the A/B test results**"
   ]
  },
  {
   "cell_type": "markdown",
   "id": "1f077a8d",
   "metadata": {},
   "source": [
    "**recommender system test**"
   ]
  },
  {
   "cell_type": "code",
   "execution_count": null,
   "id": "756f13e9",
   "metadata": {},
   "outputs": [],
   "source": [
    "# dates of the test\n",
    "recommender_test_dates = sorted(recommender_system_events['first_date'].unique())\n",
    "recommender_events_by_date = recommender_system_events.groupby('first_date')['event_name'].count().reset_index()\n",
    "recommender_events_by_date.columns = ['date', 'events']\n",
    "recommender_events_by_date"
   ]
  },
  {
   "cell_type": "code",
   "execution_count": null,
   "id": "5602ab94",
   "metadata": {},
   "outputs": [],
   "source": [
    "# plot \n",
    "fig = px.bar(recommender_events_by_date, x='date', y='events', title='Recommender events by dates')\n",
    "fig.update_layout(xaxis=dict(type='category'))"
   ]
  },
  {
   "cell_type": "markdown",
   "id": "e0210836",
   "metadata": {},
   "source": [
    "<div class=\"alert alert-info\"> <b>\n",
    "    \n",
    "    I added a title for the project, from what it looks in the plot and dates of the events comparing it with                 the technical descreption of the project the time period allign with the time range because the test was                 launched on 7 DEC and kept running unitil 1 JAN bul known that after 14 days so the test at least was for                     two weeks then the plot above can match the project descreption"
   ]
  },
  {
   "cell_type": "code",
   "execution_count": null,
   "id": "e3b96781",
   "metadata": {},
   "outputs": [],
   "source": [
    "# regions of the test\n",
    "recommender_total_users = len(recommender_system_events['user_id'].unique())\n",
    "# percentage of users in each region\n",
    "recommender_region_percentages = recommender_system_events.groupby(\"region\")[\"user_id\"].nunique() / recommender_total_users * 100\n",
    "recommender_region_percentages = recommender_region_percentages.reset_index()\n",
    "recommender_region_percentages.columns = [\"region\", \"percentage\"]\n",
    "recommender_region_percentages\n",
    "recommender_total_users"
   ]
  },
  {
   "cell_type": "markdown",
   "id": "689bd17b",
   "metadata": {},
   "source": [
    "**interface eu test**"
   ]
  },
  {
   "cell_type": "code",
   "execution_count": null,
   "id": "e13df399",
   "metadata": {},
   "outputs": [],
   "source": [
    "# dates of the test\n",
    "interface_test_dates = sorted(interface_eu_events['first_date'].unique())\n",
    "interface_events_by_date = interface_eu_events.groupby('first_date')['event_name'].count().reset_index()\n",
    "interface_events_by_date.columns = ['date', 'events']\n",
    "interface_events_by_date"
   ]
  },
  {
   "cell_type": "code",
   "execution_count": null,
   "id": "75bb3410",
   "metadata": {},
   "outputs": [],
   "source": [
    "# plot \n",
    "fig = px.bar(interface_events_by_date, x='date', y='events', title='INTERFACE events by dates')\n",
    "fig.update_layout(xaxis=dict(type='category'))"
   ]
  },
  {
   "cell_type": "markdown",
   "id": "6780c148",
   "metadata": {},
   "source": [
    "<div class=\"alert alert-info\"> <b>\n",
    "\n",
    "    also here the dates we see in the plot alligns with the technical descreption of the project, but it alligns more than the other test because we know that the test kept running untill 1 JAN."
   ]
  },
  {
   "cell_type": "code",
   "execution_count": null,
   "id": "aa52bd70",
   "metadata": {},
   "outputs": [],
   "source": [
    "# regions\n",
    "interface_total_users = len(interface_eu_events['user_id'].unique())\n",
    "# percentage of users in each region\n",
    "interface_region_percentages = interface_eu_events.groupby('region')['user_id'].nunique() / interface_total_users * 100\n",
    "interface_region_percentages = interface_region_percentages.reset_index()\n",
    "interface_region_percentages.columns = ['region', 'percentage']\n",
    "interface_region_percentages\n",
    "interface_total_users"
   ]
  },
  {
   "cell_type": "markdown",
   "id": "cf4242bf",
   "metadata": {},
   "source": [
    "<div class=\"alert alert-info\"> <b>\n",
    "    sure, we can see in the plots above the number of events were on the website in the same date, for the Recommender system test we can see clearly that the number of the events after two weeks launching the test the number of events increased highly, for both tests I noticed that every 7 days there is a peak with the number of events on the same day, maybe it's a weekend day so users are more active in this spicific day in the week, the number of events per day for the EU Interface test looks ditributed more normally than the other test. the test that fits better is the EU interface test in general, we can see that the test runs for a longer period of time than the other test but if wel aslo look at the fact that after 14 days users will show increasing in the number of events in general maybe also the increasing number of events after 14 days in the recommender be a good sign "
   ]
  },
  {
   "cell_type": "markdown",
   "id": "ef82a877",
   "metadata": {},
   "source": [
    "---"
   ]
  },
  {
   "cell_type": "markdown",
   "id": "cbded702",
   "metadata": {},
   "source": [
    "<div class=\"alert alert-info\"> <b>\n",
    "\n",
    "    I used two tests for each test in the project to check which test could fit better the descreption, the first            test is a mann-whitney U-test, the test statistic is used to compare the conversion rates of the control and            treatment groups in the recommender system experiment. the second test is a z-test and the test statistic is           calculated based on the difference between the sample proportions and the pooled standard error of the two                 groups A and B."
   ]
  },
  {
   "cell_type": "markdown",
   "id": "b3feccee",
   "metadata": {},
   "source": [
    "**recommender system test**"
   ]
  },
  {
   "cell_type": "markdown",
   "id": "f521eacc",
   "metadata": {},
   "source": [
    "<div class=\"alert alert-info\"> <b>\n",
    "    \n",
    "    H0: there is no significant difference in conversion rates between the two groups A and B in the Recommender test\n",
    "    H1: there is a significant difference in conversion rates between the two groups A and B in the Recommender test\n",
    "    Statistical significance: 0.05"
   ]
  },
  {
   "cell_type": "code",
   "execution_count": null,
   "id": "c774a2cd",
   "metadata": {},
   "outputs": [],
   "source": [
    "from scipy.stats import mannwhitneyu\n",
    "# control and treatment groups\n",
    "recommender_control_group = recommender_system_events[recommender_system_events['group'] == 'A']\n",
    "recommender_treatment_group = recommender_system_events[recommender_system_events['group'] == 'B']\n",
    "# overall conversion rate\n",
    "recommender_overall_conversion_rate = recommender_system_events[recommender_system_events['event_name'] == 'product_cart'].shape[0] / recommender_system_events.shape[0]\n",
    "recommender_control_conversion_rate = recommender_control_group[recommender_control_group['event_name'] == 'product_cart'].shape[0] / recommender_control_group.shape[0]\n",
    "recommender_treatment_conversion_rate = recommender_treatment_group[recommender_treatment_group['event_name'] == 'product_cart'].shape[0] / recommender_treatment_group.shape[0]\n",
    "# mann-whitney U test\n",
    "statistic, recommender_p_value = mannwhitneyu(recommender_control_group['event_name'] == 'product_cart', recommender_treatment_group['event_name'] == 'product_cart', alternative='two-sided')"
   ]
  },
  {
   "cell_type": "code",
   "execution_count": null,
   "id": "f0a33b56",
   "metadata": {},
   "outputs": [],
   "source": [
    "# result\n",
    "if recommender_p_value < 0.05:\n",
    "    print(\"The difference between the control and treatment groups is statistically significant.\")\n",
    "    if recommender_treatment_conversion_rate > recommender_control_conversion_rate:\n",
    "        print(\"The new recommendation system has a higher conversion rate than the old system.\")\n",
    "    else:\n",
    "        print(\"The new recommendation system does not have a higher conversion rate than the old system.\")\n",
    "else:\n",
    "    print(\"The difference between the control and treatment groups is not statistically significant.\")\n",
    "    print(\"We recommend further testing or staying with the old recommendation system.\")"
   ]
  },
  {
   "cell_type": "markdown",
   "id": "4f7a3978",
   "metadata": {},
   "source": [
    "<div class=\"alert alert-info\"> <b>\n",
    "\n",
    "    the test showed that the change will be done in the website will not lead to increasing the conversion rate, the test showed that the new recommendation system is not a significant improvement over the old system"
   ]
  },
  {
   "cell_type": "markdown",
   "id": "e4e445ed",
   "metadata": {},
   "source": [
    "**interface eu test**"
   ]
  },
  {
   "cell_type": "markdown",
   "id": "e15ede37",
   "metadata": {},
   "source": [
    "<div class=\"alert alert-info\"> <b>\n",
    "    \n",
    "    H0: there is no significant difference in conversion rates between the two groups A and B in the Recommender test\n",
    "    H1: there is a significant difference in conversion rates between the two groups A and B in the Recommender test\n",
    "    Statistical significance: 0.05"
   ]
  },
  {
   "cell_type": "code",
   "execution_count": null,
   "id": "3b60b88a",
   "metadata": {},
   "outputs": [],
   "source": [
    "# control and treatment groups\n",
    "inter_control_group = interface_eu_events[interface_eu_events['group'] == 'A']\n",
    "inter_treatment_group = interface_eu_events[interface_eu_events['group'] == 'B']\n",
    "# overall conversion rate\n",
    "inter_overall_conversion_rate = interface_eu_events[interface_eu_events['event_name'] == 'product_cart'].shape[0] / interface_eu_events.shape[0]\n",
    "inter_control_conversion_rate = inter_control_group[inter_control_group['event_name'] == 'product_cart'].shape[0] / inter_control_group.shape[0]\n",
    "inter_treatment_conversion_rate = inter_treatment_group[inter_treatment_group['event_name'] == 'product_cart'].shape[0] / inter_treatment_group.shape[0]\n",
    "# mann-whitney U test\n",
    "statistic, inter_p_value = mannwhitneyu(inter_control_group['event_name'] == 'product_cart', inter_treatment_group['event_name'] == 'product_cart', alternative='two-sided')"
   ]
  },
  {
   "cell_type": "code",
   "execution_count": null,
   "id": "5af26dfc",
   "metadata": {},
   "outputs": [],
   "source": [
    "# result\n",
    "if inter_p_value < 0.05:\n",
    "    print(\"The difference between the control and treatment groups is statistically significant.\")\n",
    "    if inter_treatment_conversion_rate > inter_control_conversion_rate:\n",
    "        print(\"The new recommendation system has a higher conversion rate than the old system.\")\n",
    "    else:\n",
    "        print(\"The new recommendation system does not have a higher conversion rate than the old system.\")\n",
    "else:\n",
    "    print(\"The difference between the control and treatment groups is not statistically significant.\")\n",
    "    print(\"We recommend further testing or staying with the old recommendation system.\")"
   ]
  },
  {
   "cell_type": "markdown",
   "id": "aa24920f",
   "metadata": {},
   "source": [
    "<div class=\"alert alert-info\"> <b>\n",
    "\n",
    "    the test is showing here for the Interface EU test that the difference between the two groups is statistacly          significant, the treatment group have a higher conversion rate than the control group based on these test                 results the new recommendation system is recommended."
   ]
  },
  {
   "cell_type": "markdown",
   "id": "3d840c69",
   "metadata": {},
   "source": [
    "**What can you tell about the A/B test results?**"
   ]
  },
  {
   "cell_type": "markdown",
   "id": "c7689867",
   "metadata": {},
   "source": [
    "<div class=\"alert alert-info\"> <b>\n",
    "    \n",
    "    The test results indicate that the new recommendations system has a statistically significant higher conversion rate than the old system, as indicated by the p-value less than 0.05. Therefore, the recommendation is to implement the                 new recommendation system, for the Interface test"
   ]
  },
  {
   "cell_type": "markdown",
   "id": "88cbdb1c",
   "metadata": {},
   "source": [
    "**Use the z-criterion to check the statistical difference between the proportions**"
   ]
  },
  {
   "cell_type": "markdown",
   "id": "cf9eff99",
   "metadata": {},
   "source": [
    "**recommender system test**"
   ]
  },
  {
   "cell_type": "markdown",
   "id": "0192f4f4",
   "metadata": {},
   "source": [
    "<div class=\"alert alert-info\"> <b>\n",
    "    \n",
    "    H0: there is no significant difference in conversion rates between the two groups A and B in the Recommender test\n",
    "    H1: there is a significant difference in conversion rates between the two groups A and B in the Recommender test\n",
    "    Statistical significance: 0.05"
   ]
  },
  {
   "cell_type": "code",
   "execution_count": null,
   "id": "f0291f3e",
   "metadata": {},
   "outputs": [],
   "source": [
    "# funnel stages\n",
    "recommender_product_page = recommender_system_events[recommender_system_events['event_name'] == 'product_page']\n",
    "recommender_product_cart = recommender_system_events[recommender_system_events['event_name'] == 'product_cart']\n",
    "recommender_purchase = recommender_system_events[recommender_system_events['event_name'] == 'purchase']\n",
    "# conversion rates\n",
    "recommender_product_page_conv = len(recommender_product_page) / len(recommender_system_events)\n",
    "recommender_product_cart_conv = len(recommender_product_cart) / len(recommender_system_events)\n",
    "recommender_purchase_conv = len(recommender_purchase) / len(recommender_system_events)\n",
    "# control and treatment groups\n",
    "recommender_control_group = recommender_system_events[recommender_system_events['group'] == 'A']\n",
    "recommender_treatment_group = recommender_system_events[recommender_system_events['group'] == 'B']\n",
    "# conversion rates for control and treatment groups\n",
    "recommender_control_product_page_conv = len(recommender_control_group[recommender_control_group['event_name'] == 'product_page']) / len(recommender_control_group)\n",
    "recommender_control_product_cart_conv = len(recommender_control_group[recommender_control_group['event_name'] == 'product_cart']) / len(recommender_control_group)\n",
    "recommender_control_purchase_conv = len(recommender_control_group[recommender_control_group['event_name'] == 'purchase']) / len(recommender_control_group)\n",
    "recommender_treatment_product_page_conv = len(recommender_treatment_group[recommender_treatment_group['event_name'] == 'product_page']) / len(recommender_treatment_group)\n",
    "recommender_treatment_product_cart_conv = len(recommender_treatment_group[recommender_treatment_group['event_name'] == 'product_cart']) / len(recommender_treatment_group)\n",
    "recommender_treatment_purchase_conv = len(recommender_treatment_group[recommender_treatment_group['event_name'] == 'purchase']) / len(recommender_treatment_group)"
   ]
  },
  {
   "cell_type": "code",
   "execution_count": null,
   "id": "07848d70",
   "metadata": {},
   "outputs": [],
   "source": [
    "# Perform z-test for each funnel stage\n",
    "def z_test(recommender_control_purchase_conv, recommender_treatment_purchase_conv, recommender_control_group, recommender_treatment_group):\n",
    "    p1 = recommender_control_purchase_conv\n",
    "    p2 = recommender_treatment_purchase_conv\n",
    "    n1 = len(recommender_control_group)\n",
    "    n2 = len(recommender_treatment_group)\n",
    "    p_pool = (n1 * p1 + n2 * p2) / (n1 + n2)\n",
    "    z_score = (p1 - p2) / np.sqrt(p_pool * (1 - p_pool) * (1 / n1 + 1 / n2))\n",
    "    p_value = stats.norm.sf(abs(z_score)) * 2\n",
    "    return z_score, p_value\n",
    "\n",
    "recommender_z_score_product_page, recommender_p_value_product_page = z_test(recommender_control_product_page_conv, recommender_treatment_product_page_conv, recommender_control_group, recommender_treatment_group)\n",
    "recommender_z_score_product_cart, recommender_p_value_product_cart = z_test(recommender_control_product_cart_conv, recommender_treatment_product_cart_conv, recommender_control_group, recommender_treatment_group)\n",
    "recommender_z_score_purchase, recommender_p_value_purchase = z_test(recommender_control_purchase_conv, recommender_treatment_purchase_conv, recommender_control_group, recommender_treatment_group)"
   ]
  },
  {
   "cell_type": "code",
   "execution_count": null,
   "id": "1fbafaaf",
   "metadata": {},
   "outputs": [],
   "source": [
    "# results\n",
    "print(f\"Product page conversion rates: Control {recommender_control_product_page_conv:.4f}, Treatment {recommender_treatment_product_page_conv:.4f}\")\n",
    "print(f\"Product cart conversion rates: Control {recommender_control_product_cart_conv:.4f}, Treatment {recommender_treatment_product_cart_conv:.4f}\")\n",
    "print(f\"Purchase conversion rates: Control {recommender_control_purchase_conv:.4f}, Treatment {recommender_treatment_purchase_conv:.4f}\")\n",
    "\n",
    "if recommender_p_value_product_page < 0.05:\n",
    "    print(\"The difference between the control and treatment groups for product page is statistically significant.\")\n",
    "else:\n",
    "    print(\"The difference between the control and treatment groups for product page is not statistically significant.\")\n",
    "\n",
    "if recommender_p_value_product_cart < 0.05:\n",
    "    print(\"The difference between the control and treatment groups for product cart is statistically significant.\")\n",
    "else:\n",
    "    print(\"The difference between the control and treatment groups for product cart is not statistically significant.\")\n",
    "\n",
    "if recommender_p_value_purchase < 0.05:\n",
    "    print(\"The difference between the control and treatment groups for purchase is statistically significant.\")\n",
    "else:\n",
    "    print(\"The difference between the control and treatment groups for purchase is not statistically significant.\")"
   ]
  },
  {
   "cell_type": "code",
   "execution_count": null,
   "id": "6660df38",
   "metadata": {},
   "outputs": [],
   "source": [
    "# conversion rates\n",
    "if recommender_treatment_product_page_conv > recommender_control_product_page_conv:\n",
    "    print(\"Treatment group has a higher conversion rate for product page.\")\n",
    "else:\n",
    "    print(\"Control group has a higher conversion rate for product page.\")\n",
    "\n",
    "if recommender_treatment_product_cart_conv > recommender_control_product_cart_conv:\n",
    "    print(\"Treatment group has a higher conversion rate for product cart.\")\n",
    "else:\n",
    "    print(\"Control group has a higher conversion rate for product cart.\")\n",
    "\n",
    "if recommender_treatment_purchase_conv > recommender_control_purchase_conv:\n",
    "    print(\"Treatment group has a higher conversion rate for purchase.\")\n",
    "else:\n",
    "    print(\"Control group has a higher conversion rate for purchase.\")"
   ]
  },
  {
   "cell_type": "markdown",
   "id": "00e291e3",
   "metadata": {},
   "source": [
    "<div class=\"alert alert-info\"> <b>\n",
    "    \n",
    "    p-value is less than 0.05 that means that the null hypothesis will be rejected and the alternative                  hypothesis will be accepted. this indicates that there is a statistically significant difference in conversion              rates between the control and treatment groups."
   ]
  },
  {
   "cell_type": "markdown",
   "id": "f670ee12",
   "metadata": {},
   "source": [
    "**interface eu test**"
   ]
  },
  {
   "cell_type": "markdown",
   "id": "7751146e",
   "metadata": {},
   "source": [
    "<div class=\"alert alert-info\"> <b>\n",
    "\n",
    "    H0: there is no significant difference between the conversion rates of the two groups A and B\n",
    "    H1: there is a significant difference in conversion rates between the two groups A and B"
   ]
  },
  {
   "cell_type": "code",
   "execution_count": null,
   "id": "edb8376c",
   "metadata": {},
   "outputs": [],
   "source": [
    "# funnel stages\n",
    "eu_product_page = interface_eu_events[interface_eu_events['event_name'] == 'product_page']\n",
    "eu_product_cart = interface_eu_events[interface_eu_events['event_name'] == 'product_cart']\n",
    "eu_purchase = interface_eu_events[interface_eu_events['event_name'] == 'purchase']\n",
    "# conversion rates\n",
    "eu_product_page_conv = len(eu_product_page) / len(interface_eu_events)\n",
    "eu_product_cart_conv = len(eu_product_cart) / len(interface_eu_events)\n",
    "eu_purchase_conv = len(eu_purchase) / len(interface_eu_events)\n",
    "# control and treatment groups\n",
    "eu_control_group = interface_eu_events[interface_eu_events['group'] == 'A']\n",
    "eu_treatment_group = interface_eu_events[interface_eu_events['group'] == 'B']\n",
    "# conversion rates for control and treatment groups\n",
    "eu_control_product_page_conv = len(eu_control_group[eu_control_group['event_name'] == 'product_page']) / len(eu_control_group)\n",
    "eu_control_product_cart_conv = len(eu_control_group[eu_control_group['event_name'] == 'product_cart']) / len(eu_control_group)\n",
    "eu_control_purchase_conv = len(eu_control_group[eu_control_group['event_name'] == 'purchase']) / len(eu_control_group)\n",
    "eu_treatment_product_page_conv = len(eu_treatment_group[eu_treatment_group['event_name'] == 'product_page']) / len(eu_treatment_group)\n",
    "eu_treatment_product_cart_conv = len(eu_treatment_group[eu_treatment_group['event_name'] == 'product_cart']) / len(eu_treatment_group)\n",
    "eu_treatment_purchase_conv = len(eu_treatment_group[eu_treatment_group['event_name'] == 'purchase']) / len(eu_treatment_group)"
   ]
  },
  {
   "cell_type": "code",
   "execution_count": null,
   "id": "e2543390",
   "metadata": {},
   "outputs": [],
   "source": [
    "# Perform z-test for each funnel stage\n",
    "def z_test(eu_control_purchase_conv, eu_treatment_purchase_conv, eu_control_group, eu_treatment_group):\n",
    "    p1 = eu_control_purchase_conv\n",
    "    p2 = eu_treatment_purchase_conv\n",
    "    n1 = len(eu_control_group)\n",
    "    n2 = len(eu_treatment_group)\n",
    "    p_pool = (n1 * p1 + n2 * p2) / (n1 + n2)\n",
    "    z_score = (p1 - p2) / np.sqrt(p_pool * (1 - p_pool) * (1 / n1 + 1 / n2))\n",
    "    p_value = stats.norm.sf(abs(z_score)) * 2\n",
    "    return z_score, p_value\n",
    "\n",
    "eu_z_score_product_page, eu_p_value_product_page = z_test(eu_control_product_page_conv, eu_treatment_product_page_conv, eu_control_group, eu_treatment_group)\n",
    "eu_z_score_product_cart, eu_p_value_product_cart = z_test(eu_control_product_cart_conv, eu_treatment_product_cart_conv, eu_control_group, eu_treatment_group)\n",
    "eu_z_score_purchase, eu_p_value_purchase = z_test(eu_control_purchase_conv, eu_treatment_purchase_conv, eu_control_group, eu_treatment_group)"
   ]
  },
  {
   "cell_type": "code",
   "execution_count": null,
   "id": "17339816",
   "metadata": {},
   "outputs": [],
   "source": [
    "# results\n",
    "print(f\"Product page conversion rates: Control {eu_control_product_page_conv:.4f}, Treatment {eu_treatment_product_page_conv:.4f}\")\n",
    "print(f\"Product cart conversion rates: Control {eu_control_product_cart_conv:.4f}, Treatment {eu_treatment_product_cart_conv:.4f}\")\n",
    "print(f\"Purchase conversion rates: Control {eu_control_purchase_conv:.4f}, Treatment {eu_treatment_purchase_conv:.4f}\")\n",
    "\n",
    "if eu_p_value_product_page < 0.05:\n",
    "    print(\"The difference between the control and treatment groups for product page is statistically significant.\")\n",
    "else:\n",
    "    print(\"The difference between the control and treatment groups for product page is not statistically significant.\")\n",
    "\n",
    "if eu_p_value_product_cart < 0.05:\n",
    "    print(\"The difference between the control and treatment groups for product cart is statistically significant.\")\n",
    "else:\n",
    "    print(\"The difference between the control and treatment groups for product cart is not statistically significant.\")\n",
    "\n",
    "if eu_p_value_purchase < 0.05:\n",
    "    print(\"The difference between the control and treatment groups for purchase is statistically significant.\")\n",
    "else:\n",
    "    print(\"The difference between the control and treatment groups for purchase is not statistically significant.\")"
   ]
  },
  {
   "cell_type": "code",
   "execution_count": null,
   "id": "6684ed43",
   "metadata": {},
   "outputs": [],
   "source": [
    "# conversion rates\n",
    "if eu_treatment_product_page_conv > eu_control_product_page_conv:\n",
    "    print(\"Treatment group has a higher conversion rate for product page.\")\n",
    "else:\n",
    "    print(\"Control group has a higher conversion rate for product page.\")\n",
    "\n",
    "if eu_treatment_product_cart_conv > eu_control_product_cart_conv:\n",
    "    print(\"Treatment group has a higher conversion rate for product cart.\")\n",
    "else:\n",
    "    print(\"Control group has a higher conversion rate for product cart.\")\n",
    "\n",
    "if eu_treatment_purchase_conv > eu_control_purchase_conv:\n",
    "    print(\"Treatment group has a higher conversion rate for purchase.\")\n",
    "else:\n",
    "    print(\"Control group has a higher conversion rate for purchase.\")"
   ]
  },
  {
   "cell_type": "markdown",
   "id": "b1573b18",
   "metadata": {},
   "source": [
    "**Describe the results**"
   ]
  },
  {
   "cell_type": "markdown",
   "id": "8cae23b5",
   "metadata": {},
   "source": [
    "<div class=\"alert alert-info\"> <b>\n",
    "\n",
    "    it is recommended that the store implement the new interface_test, the test showed that the new system                    had a statistically significantly higher conversion rate than the old system, by both tests. this indicates                  that customers are more likely to add products to their cart when new recommendations are made, overall,                      the A/B testing provided valuable insights into the effectiveness of a store recommendation system and               demonstrates the importance of experimentation to improve customer engagement and drive business growth. "
   ]
  }
 ],
 "metadata": {
  "kernelspec": {
   "display_name": "Python 3 (ipykernel)",
   "language": "python",
   "name": "python3"
  },
  "language_info": {
   "codemirror_mode": {
    "name": "ipython",
    "version": 3
   },
   "file_extension": ".py",
   "mimetype": "text/x-python",
   "name": "python",
   "nbconvert_exporter": "python",
   "pygments_lexer": "ipython3",
   "version": "3.9.5"
  },
  "toc": {
   "base_numbering": 1,
   "nav_menu": {
    "height": "175.99px",
    "width": "249.99px"
   },
   "number_sections": true,
   "sideBar": true,
   "skip_h1_title": true,
   "title_cell": "Table of Contents",
   "title_sidebar": "Contents",
   "toc_cell": false,
   "toc_position": {},
   "toc_section_display": true,
   "toc_window_display": false
  }
 },
 "nbformat": 4,
 "nbformat_minor": 5
}
